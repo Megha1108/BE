{
  "cells": [
    {
      "cell_type": "code",
      "execution_count": null,
      "metadata": {
        "id": "5JPhB-Ecql0x"
      },
      "outputs": [],
      "source": [
        "#DL1 : LINEAR REGRESSION\n",
        "\n",
        "import numpy as np\n",
        "import pandas as pd\n",
        "import matplotlib.pyplot as plt\n",
        "import warnings\n",
        "warnings.filterwarnings('ignore')\n",
        "from sklearn import datasets"
      ]
    },
    {
      "cell_type": "code",
      "execution_count": 14,
      "metadata": {
        "id": "K08Qv4X4suuD"
      },
      "outputs": [],
      "source": [
        "boston = pd.read_csv(\"HousingData.csv\") #https://www.kaggle.com/datasets/altavish/boston-housing-dataset"
      ]
    },
    {
      "cell_type": "code",
      "execution_count": 15,
      "metadata": {
        "colab": {
          "base_uri": "https://localhost:8080/"
        },
        "id": "RZmcqd5vt4Ch",
        "outputId": "406c76b8-3de4-4129-de91-aab15bc69f83"
      },
      "outputs": [
        {
          "name": "stdout",
          "output_type": "stream",
          "text": [
            "Shape of dataset: (506, 14)\n"
          ]
        }
      ],
      "source": [
        "print(\"Shape of dataset:\", boston.shape)"
      ]
    },
    {
      "cell_type": "code",
      "execution_count": 16,
      "metadata": {
        "colab": {
          "base_uri": "https://localhost:8080/"
        },
        "id": "7yiN9DlwuCQH",
        "outputId": "362612a2-fc0e-425c-f1c8-8716aecc6ab6"
      },
      "outputs": [
        {
          "name": "stdout",
          "output_type": "stream",
          "text": [
            "      CRIM    ZN  INDUS  CHAS    NOX     RM   AGE     DIS  RAD  TAX  PTRATIO  \\\n",
            "0  0.00632  18.0   2.31   0.0  0.538  6.575  65.2  4.0900    1  296     15.3   \n",
            "1  0.02731   0.0   7.07   0.0  0.469  6.421  78.9  4.9671    2  242     17.8   \n",
            "2  0.02729   0.0   7.07   0.0  0.469  7.185  61.1  4.9671    2  242     17.8   \n",
            "3  0.03237   0.0   2.18   0.0  0.458  6.998  45.8  6.0622    3  222     18.7   \n",
            "4  0.06905   0.0   2.18   0.0  0.458  7.147  54.2  6.0622    3  222     18.7   \n",
            "\n",
            "        B  LSTAT  MEDV  \n",
            "0  396.90   4.98  24.0  \n",
            "1  396.90   9.14  21.6  \n",
            "2  392.83   4.03  34.7  \n",
            "3  394.63   2.94  33.4  \n",
            "4  396.90    NaN  36.2  \n"
          ]
        }
      ],
      "source": [
        "print(boston.head())"
      ]
    },
    {
      "cell_type": "code",
      "execution_count": 17,
      "metadata": {
        "colab": {
          "base_uri": "https://localhost:8080/"
        },
        "id": "onNt-9zlw509",
        "outputId": "8bf0b94c-70b0-4098-9e4c-3b67b47618e1"
      },
      "outputs": [
        {
          "name": "stdout",
          "output_type": "stream",
          "text": [
            "             CRIM          ZN       INDUS        CHAS         NOX          RM  \\\n",
            "count  486.000000  486.000000  486.000000  486.000000  506.000000  506.000000   \n",
            "mean     3.611874   11.211934   11.083992    0.069959    0.554695    6.284634   \n",
            "std      8.720192   23.388876    6.835896    0.255340    0.115878    0.702617   \n",
            "min      0.006320    0.000000    0.460000    0.000000    0.385000    3.561000   \n",
            "25%      0.081900    0.000000    5.190000    0.000000    0.449000    5.885500   \n",
            "50%      0.253715    0.000000    9.690000    0.000000    0.538000    6.208500   \n",
            "75%      3.560263   12.500000   18.100000    0.000000    0.624000    6.623500   \n",
            "max     88.976200  100.000000   27.740000    1.000000    0.871000    8.780000   \n",
            "\n",
            "              AGE         DIS         RAD         TAX     PTRATIO           B  \\\n",
            "count  486.000000  506.000000  506.000000  506.000000  506.000000  506.000000   \n",
            "mean    68.518519    3.795043    9.549407  408.237154   18.455534  356.674032   \n",
            "std     27.999513    2.105710    8.707259  168.537116    2.164946   91.294864   \n",
            "min      2.900000    1.129600    1.000000  187.000000   12.600000    0.320000   \n",
            "25%     45.175000    2.100175    4.000000  279.000000   17.400000  375.377500   \n",
            "50%     76.800000    3.207450    5.000000  330.000000   19.050000  391.440000   \n",
            "75%     93.975000    5.188425   24.000000  666.000000   20.200000  396.225000   \n",
            "max    100.000000   12.126500   24.000000  711.000000   22.000000  396.900000   \n",
            "\n",
            "            LSTAT        MEDV  \n",
            "count  486.000000  506.000000  \n",
            "mean    12.715432   22.532806  \n",
            "std      7.155871    9.197104  \n",
            "min      1.730000    5.000000  \n",
            "25%      7.125000   17.025000  \n",
            "50%     11.430000   21.200000  \n",
            "75%     16.955000   25.000000  \n",
            "max     37.970000   50.000000  \n"
          ]
        }
      ],
      "source": [
        "print(boston.describe())"
      ]
    },
    {
      "cell_type": "code",
      "execution_count": 18,
      "metadata": {
        "id": "K2ObJQaKyYx4"
      },
      "outputs": [],
      "source": [
        "boston = boston.dropna()"
      ]
    },
    {
      "cell_type": "code",
      "execution_count": 20,
      "metadata": {
        "id": "FgoZxZENyd0F"
      },
      "outputs": [],
      "source": [
        "x = boston.drop('MEDV', axis=1)\n",
        "y = boston['MEDV']"
      ]
    },
    {
      "cell_type": "code",
      "execution_count": 21,
      "metadata": {
        "id": "6tUv8Wtoyq9K"
      },
      "outputs": [],
      "source": [
        "from sklearn.model_selection import train_test_split\n",
        "xtrain, xtest, ytrain, ytest = train_test_split(x, y, test_size=0.2, random_state=42)"
      ]
    },
    {
      "cell_type": "code",
      "execution_count": 22,
      "metadata": {
        "colab": {
          "base_uri": "https://localhost:8080/"
        },
        "id": "hc0NWdpgy96x",
        "outputId": "2df1cbf7-6f46-4f3b-e690-7a7e8ff548b9"
      },
      "outputs": [
        {
          "name": "stdout",
          "output_type": "stream",
          "text": [
            "xtrain shape: (315, 13)\n",
            "xtest shape: (79, 13)\n",
            "ytrain shape: (315,)\n",
            "ytest shape: (79,)\n"
          ]
        }
      ],
      "source": [
        "print(\"xtrain shape:\", xtrain.shape)\n",
        "print(\"xtest shape:\", xtest.shape)\n",
        "print(\"ytrain shape:\", ytrain.shape)\n",
        "print(\"ytest shape:\", ytest.shape)"
      ]
    },
    {
      "cell_type": "code",
      "execution_count": 23,
      "metadata": {
        "id": "h7L6k6Y4zPqR"
      },
      "outputs": [],
      "source": [
        "from sklearn.linear_model import LinearRegression\n",
        "lr = LinearRegression()\n",
        "lr.fit(xtrain, ytrain)\n",
        "y_pred = lr.predict(xtest)"
      ]
    },
    {
      "cell_type": "code",
      "execution_count": 24,
      "metadata": {
        "colab": {
          "base_uri": "https://localhost:8080/",
          "height": 564
        },
        "id": "y1vJp0IdziJ1",
        "outputId": "f38d2fd3-ea8f-4740-89db-27198454775b"
      },
      "outputs": [
        {
          "data": {
            "image/png": "[encoded data removed]",
            "text/plain": [
              "<Figure size 800x600 with 1 Axes>"
            ]
          },
          "metadata": {},
          "output_type": "display_data"
        }
      ],
      "source": [
        "plt.figure(figsize=(8,6))\n",
        "plt.scatter(ytest, y_pred, c='green')\n",
        "plt.xlabel('True prices (in $1000s)')\n",
        "plt.ylabel('Predicted prices')\n",
        "plt.title('True vs Predicted prices: Linear Regression')\n",
        "plt.grid(True)\n",
        "plt.show()"
      ]
    },
    {
      "cell_type": "code",
      "execution_count": 25,
      "metadata": {
        "colab": {
          "base_uri": "https://localhost:8080/"
        },
        "id": "Xy7e0MWV0IrW",
        "outputId": "3e92fd1a-2528-4705-c6f8-a5c17680aebb"
      },
      "outputs": [
        {
          "name": "stdout",
          "output_type": "stream",
          "text": [
            "mean squared error: 31.45404766495083\n",
            "mean absolute error: 3.3679832251542403\n"
          ]
        }
      ],
      "source": [
        "from sklearn.metrics import mean_squared_error, mean_absolute_error\n",
        "mse = mean_squared_error(ytest, y_pred)\n",
        "mae = mean_absolute_error(ytest, y_pred)\n",
        "print(\"mean squared error:\", mse)\n",
        "print(\"mean absolute error:\", mae)"
      ]
    }
  ],
  "metadata": {
    "colab": {
      "provenance": []
    },
    "kernelspec": {
      "display_name": "Python 3",
      "name": "python3"
    },
    "language_info": {
      "name": "python"
    }
  },
  "nbformat": 4,
  "nbformat_minor": 0
}
